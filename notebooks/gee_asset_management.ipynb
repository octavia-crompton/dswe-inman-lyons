{
 "cells": [
  {
   "cell_type": "code",
   "execution_count": null,
   "id": "bf53b5c8",
   "metadata": {},
   "outputs": [],
   "source": []
  },
  {
   "cell_type": "code",
   "execution_count": 2,
   "id": "82c01dbf",
   "metadata": {},
   "outputs": [
    {
     "name": "stdout",
     "output_type": "stream",
     "text": [
      "PUBLIC: projects/ee-okavango/assets/shapes\n",
      "PUBLIC: projects/ee-okavango/assets/shapes/1274m_contour\n",
      "PUBLIC: projects/ee-okavango/assets/shapes/1_panhandle\n",
      "PUBLIC: projects/ee-okavango/assets/shapes/2_central_delta\n",
      "PUBLIC: projects/ee-okavango/assets/shapes/3_distal_edges\n",
      "PUBLIC: projects/ee-okavango/assets/shapes/Angolan_Highlands_Water_Tower_area\n",
      "PUBLIC: projects/ee-okavango/assets/shapes/Cubango_Highland_Polygon\n",
      "PUBLIC: projects/ee-okavango/assets/shapes/Cuito_Highland_Polygon\n",
      "PUBLIC: projects/ee-okavango/assets/shapes/Harmonization_ROIs\n",
      "PUBLIC: projects/ee-okavango/assets/shapes/NGOWP_tsect_2024\n",
      "PUBLIC: projects/ee-okavango/assets/shapes/cubango_cuito_highlands_polygon\n",
      "PUBLIC: projects/ee-okavango/assets/shapes/hybas_af_lev04_v1c\n",
      "PUBLIC: projects/ee-okavango/assets/shapes/okavango_dummy_points\n",
      "PUBLIC: projects/ee-okavango/assets/shapes/okavango_outline_20241031\n",
      "PUBLIC: projects/ee-okavango/assets/shapes/rainfall_regions\n",
      "PUBLIC: projects/ee-okavango/assets/shapes/testing_grounds_20241127\n"
     ]
    }
   ],
   "source": [
    "# make_public_shapes.py\n",
    "import time\n",
    "import ee\n",
    "\n",
    "ee.Initialize(project='ee-okavango')\n",
    "\n",
    "ROOT = 'projects/ee-okavango/assets/shapes'\n",
    "\n",
    "def walk(parent):\n",
    "    out = []\n",
    "    page = ee.data.listAssets(parent)  # not recursive\n",
    "    for a in page.get('assets', []):\n",
    "        aid, typ = a['name'], a['type']\n",
    "        out.append(aid)\n",
    "        if typ in ('FOLDER', 'IMAGE_COLLECTION'):\n",
    "            out.extend(walk(aid))\n",
    "    return out\n",
    "\n",
    "ids = [ROOT] + walk(ROOT)\n",
    "\n",
    "for aid in ids:\n",
    "    try:\n",
    "        acl = ee.data.getAssetAcl(aid)          # keep owners/writers/readers\n",
    "        acl['all_users_can_read'] = True        # flip public flag\n",
    "        ee.data.setAssetAcl(aid, acl)\n",
    "        print('PUBLIC:', aid)\n",
    "        time.sleep(0.1)                         # gentle on rate limits\n",
    "    except Exception as e:\n",
    "        print('FAILED:', aid, e)\n"
   ]
  },
  {
   "cell_type": "code",
   "execution_count": null,
   "id": "22a52a77",
   "metadata": {},
   "outputs": [],
   "source": []
  }
 ],
 "metadata": {
  "kernelspec": {
   "display_name": "ee",
   "language": "python",
   "name": "ee"
  },
  "language_info": {
   "codemirror_mode": {
    "name": "ipython",
    "version": 3
   },
   "file_extension": ".py",
   "mimetype": "text/x-python",
   "name": "python",
   "nbconvert_exporter": "python",
   "pygments_lexer": "ipython3",
   "version": "3.11.8"
  }
 },
 "nbformat": 4,
 "nbformat_minor": 5
}
