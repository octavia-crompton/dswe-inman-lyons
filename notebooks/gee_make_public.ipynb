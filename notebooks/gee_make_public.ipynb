{
 "cells": [
  {
   "cell_type": "code",
   "execution_count": null,
   "id": "6bbbf5a5",
   "metadata": {},
   "outputs": [],
   "source": [
    "# Auto-reload changes in src while developing\n",
    "%load_ext autoreload\n",
    "%autoreload 2"
   ]
  },
  {
   "cell_type": "code",
   "execution_count": 1,
   "id": "d561a22a",
   "metadata": {},
   "outputs": [],
   "source": [
    "import sys, os\n",
    "sys.path.append(os.path.abspath(os.path.join(os.getcwd(), '..')))\n",
    "from src.gee_utils import walk_assets, make_tree_public"
   ]
  },
  {
   "cell_type": "code",
   "execution_count": null,
   "id": "82c01dbf",
   "metadata": {},
   "outputs": [
    {
     "name": "stdout",
     "output_type": "stream",
     "text": [
      "Found 16 assets under projects/ee-okavango/assets/shapes\n"
     ]
    }
   ],
   "source": [
    "# make_public_shapes.py\n",
    "import time\n",
    "import ee\n",
    "\n",
    "from src.gee_utils import walk_assets, make_tree_public\n",
    "\n",
    "ee.Initialize(project='ee-okavango')\n",
    "\n",
    "ROOT = 'projects/ee-okavango/assets/shapes'\n",
    "\n",
    "# Option 1: list assets recursively\n",
    "ids = [ROOT] + walk_assets(ROOT)\n",
    "print(f\"Found {len(ids)} assets under {ROOT}\")\n",
    "print (ids)"
   ]
  },
  {
   "cell_type": "code",
   "execution_count": 5,
   "id": "29ac7085",
   "metadata": {},
   "outputs": [
    {
     "name": "stdout",
     "output_type": "stream",
     "text": [
      "PUBLIC: projects/ee-okavango/assets/shapes\n",
      "PUBLIC: projects/ee-okavango/assets/shapes/1274m_contour\n",
      "PUBLIC: projects/ee-okavango/assets/shapes/1274m_contour\n",
      "PUBLIC: projects/ee-okavango/assets/shapes/1_panhandle\n",
      "PUBLIC: projects/ee-okavango/assets/shapes/1_panhandle\n",
      "PUBLIC: projects/ee-okavango/assets/shapes/2_central_delta\n",
      "PUBLIC: projects/ee-okavango/assets/shapes/2_central_delta\n",
      "PUBLIC: projects/ee-okavango/assets/shapes/3_distal_edges\n",
      "PUBLIC: projects/ee-okavango/assets/shapes/3_distal_edges\n",
      "PUBLIC: projects/ee-okavango/assets/shapes/Angolan_Highlands_Water_Tower_area\n",
      "PUBLIC: projects/ee-okavango/assets/shapes/Angolan_Highlands_Water_Tower_area\n",
      "PUBLIC: projects/ee-okavango/assets/shapes/Cubango_Highland_Polygon\n",
      "PUBLIC: projects/ee-okavango/assets/shapes/Cubango_Highland_Polygon\n",
      "PUBLIC: projects/ee-okavango/assets/shapes/Cuito_Highland_Polygon\n",
      "PUBLIC: projects/ee-okavango/assets/shapes/Cuito_Highland_Polygon\n",
      "PUBLIC: projects/ee-okavango/assets/shapes/Harmonization_ROIs\n",
      "PUBLIC: projects/ee-okavango/assets/shapes/Harmonization_ROIs\n",
      "PUBLIC: projects/ee-okavango/assets/shapes/NGOWP_tsect_2024\n",
      "PUBLIC: projects/ee-okavango/assets/shapes/NGOWP_tsect_2024\n",
      "PUBLIC: projects/ee-okavango/assets/shapes/cubango_cuito_highlands_polygon\n",
      "PUBLIC: projects/ee-okavango/assets/shapes/cubango_cuito_highlands_polygon\n",
      "PUBLIC: projects/ee-okavango/assets/shapes/hybas_af_lev04_v1c\n",
      "PUBLIC: projects/ee-okavango/assets/shapes/hybas_af_lev04_v1c\n",
      "PUBLIC: projects/ee-okavango/assets/shapes/okavango_dummy_points\n",
      "PUBLIC: projects/ee-okavango/assets/shapes/okavango_dummy_points\n",
      "PUBLIC: projects/ee-okavango/assets/shapes/okavango_outline_20241031\n",
      "PUBLIC: projects/ee-okavango/assets/shapes/okavango_outline_20241031\n",
      "PUBLIC: projects/ee-okavango/assets/shapes/rainfall_regions\n",
      "PUBLIC: projects/ee-okavango/assets/shapes/rainfall_regions\n",
      "PUBLIC: projects/ee-okavango/assets/shapes/testing_grounds_20241127\n",
      "PUBLIC: projects/ee-okavango/assets/shapes/testing_grounds_20241127\n"
     ]
    }
   ],
   "source": [
    "\n",
    "# Option 2: flip entire tree to public\n",
    "make_tree_public(ROOT)\n"
   ]
  },
  {
   "cell_type": "code",
   "execution_count": null,
   "id": "22a52a77",
   "metadata": {},
   "outputs": [],
   "source": []
  }
 ],
 "metadata": {
  "kernelspec": {
   "display_name": "ee",
   "language": "python",
   "name": "python3"
  },
  "language_info": {
   "codemirror_mode": {
    "name": "ipython",
    "version": 3
   },
   "file_extension": ".py",
   "mimetype": "text/x-python",
   "name": "python",
   "nbconvert_exporter": "python",
   "pygments_lexer": "ipython3",
   "version": "3.11.8"
  }
 },
 "nbformat": 4,
 "nbformat_minor": 5
}
