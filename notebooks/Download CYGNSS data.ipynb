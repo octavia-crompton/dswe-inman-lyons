{
 "cells": [
  {
   "cell_type": "markdown",
   "id": "ff341a2d",
   "metadata": {},
   "source": [
    "https://podaac.jpl.nasa.gov/dataset/CYGNSS_L3_UC_BERKELEY_WATERMASK_V3.1#\n",
    "\n",
    "https://podaac.jpl.nasa.gov/dataset/CYGNSS_L3_UC_BERKELEY_WATERMASK_DAILY_V3.2"
   ]
  },
  {
   "cell_type": "code",
   "execution_count": 1,
   "id": "b6c98dac",
   "metadata": {},
   "outputs": [
    {
     "name": "stdout",
     "output_type": "stream",
     "text": [
      "Enter your Earthdata Login username: octavia.v.crompton\n",
      "Enter your Earthdata password: ········\n"
     ]
    },
    {
     "data": {
      "text/plain": [
       "<earthaccess.auth.Auth at 0x108a35f90>"
      ]
     },
     "execution_count": 1,
     "metadata": {},
     "output_type": "execute_result"
    }
   ],
   "source": [
    "# pip install earthaccess xarray h5netcdf\n",
    "import earthaccess as ea\n",
    "\n",
    "# 1) Log in (opens a device-code prompt) and search\n",
    "ea.login()\n"
   ]
  },
  {
   "cell_type": "code",
   "execution_count": 10,
   "id": "c38cbf00",
   "metadata": {},
   "outputs": [],
   "source": [
    "import cftime"
   ]
  },
  {
   "cell_type": "code",
   "execution_count": 11,
   "id": "02d88c00",
   "metadata": {
    "code_folding": [
     52
    ]
   },
   "outputs": [
    {
     "data": {
      "application/vnd.jupyter.widget-view+json": {
       "model_id": "8c786027319c44e2be21945561505671",
       "version_major": 2,
       "version_minor": 0
      },
      "text/plain": [
       "QUEUEING TASKS | :   0%|          | 0/84 [00:00<?, ?it/s]"
      ]
     },
     "metadata": {},
     "output_type": "display_data"
    },
    {
     "data": {
      "application/vnd.jupyter.widget-view+json": {
       "model_id": "b89f7835bb2543e2ae05996f505803cb",
       "version_major": 2,
       "version_minor": 0
      },
      "text/plain": [
       "PROCESSING TASKS | :   0%|          | 0/84 [00:00<?, ?it/s]"
      ]
     },
     "metadata": {},
     "output_type": "display_data"
    },
    {
     "data": {
      "application/vnd.jupyter.widget-view+json": {
       "model_id": "a1186f353fbc437fba0953bbd10a8fed",
       "version_major": 2,
       "version_minor": 0
      },
      "text/plain": [
       "COLLECTING RESULTS | :   0%|          | 0/84 [00:00<?, ?it/s]"
      ]
     },
     "metadata": {},
     "output_type": "display_data"
    },
    {
     "name": "stdout",
     "output_type": "stream",
     "text": [
      "Found 84 monthly files across the full record (server may paginate).\n"
     ]
    }
   ],
   "source": [
    "# %% ------------------ Setup ------------------\n",
    "import os\n",
    "from pathlib import Path\n",
    "from typing import Tuple, List\n",
    "\n",
    "import earthaccess as ea\n",
    "import xarray as xr\n",
    "import numpy as np\n",
    "import pandas as pd\n",
    "import matplotlib.pyplot as plt\n",
    "\n",
    "# ------------------ Parameters ------------------\n",
    "SHORT_NAME = \"CYGNSS_L3_UC_BERKELEY_WATERMASK_V3.1\"\n",
    "VERSION    = \"3.1\"\n",
    "\n",
    "# Full-range temporal window (broad; server returns only what's available)\n",
    "TEMPORAL   = (\"2016-01-01\", \"2030-12-31\")\n",
    "\n",
    "# Okavango bbox (min_lon, min_lat, max_lon, max_lat)\n",
    "OKAV_BBOX = (21.696, -20.223, 24.103, -18.221)\n",
    "\n",
    "# Output\n",
    "BASE_OUT   = Path(\"../data/cygnss_okavango_full\")\n",
    "CROPS_DIR  = BASE_OUT / \"crops_nc\"\n",
    "MERGED_NC  = BASE_OUT / \"cygnss_okavango_full_merged.nc\"\n",
    "BASE_OUT.mkdir(parents=True, exist_ok=True)\n",
    "CROPS_DIR.mkdir(parents=True, exist_ok=True)\n",
    "\n",
    "# ------------------ Helpers ------------------\n",
    "def find_lat_lon_names(ds: xr.Dataset) -> Tuple[str, str]:\n",
    "    lat = next(n for n in ds.dims if n.lower() in (\"lat\",\"latitude\",\"y\"))\n",
    "    lon = next(n for n in ds.dims if n.lower() in (\"lon\",\"longitude\",\"x\"))\n",
    "    return lat, lon\n",
    "\n",
    "\n",
    "\n",
    "def pick_var_with_latlon(ds: xr.Dataset, lat: str, lon: str) -> str:\n",
    "    preferred = [v for v in ds.data_vars if (\"mask\" in v.lower()) or (\"water\" in v.lower())]\n",
    "    for v in preferred:\n",
    "        if {lat, lon}.issubset(ds[v].dims): return v\n",
    "    for v in ds.data_vars:\n",
    "        if {lat, lon}.issubset(ds[v].dims): return v\n",
    "    return list(ds.data_vars)[0]\n",
    "\n",
    "def aoi_lat_slice(ds: xr.Dataset, lat_name: str, bbox) -> slice:\n",
    "    lat_vals = ds[lat_name].values\n",
    "    south, north = bbox[1], bbox[3]\n",
    "    return slice(north, south) if (lat_vals[0] > lat_vals[-1]) else slice(south, north)\n",
    "\n",
    "def weights_coslat(lat_vals: np.ndarray) -> np.ndarray:\n",
    "    return np.cos(np.deg2rad(lat_vals))\n",
    "\n",
    "def decode_months_since(ds: xr.Dataset, time_name: str = \"time\") -> pd.DatetimeIndex:\n",
    "    \"\"\"\n",
    "    Convert CF-like 'months since YYYY-MM-DD ...' to pandas datetime without cftime.\n",
    "    Keeps the same length/ordering as ds[time_name].\n",
    "    \"\"\"\n",
    "    if time_name not in ds:\n",
    "        raise ValueError(\"No time coordinate found to decode.\")\n",
    "    t = ds[time_name]\n",
    "    units = t.attrs.get(\"units\", \"\")\n",
    "    # Expect e.g., 'months since 2018-08-01 00:30:00.000000000'\n",
    "    if \"months since\" not in units:\n",
    "        # Fallback: try xarray decode if possible\n",
    "        try:\n",
    "            _ = xr.decode_cf(ds)[time_name].to_index()\n",
    "        except Exception:\n",
    "            return pd.RangeIndex(len(t))  # unlabeled\n",
    "        else:\n",
    "            return xr.decode_cf(ds)[time_name].to_index()\n",
    "\n",
    "    base_str = units.split(\"months since\", 1)[1].strip().split()[0]  # 'YYYY-MM-DD'\n",
    "    base = pd.Timestamp(base_str)\n",
    "    offs = pd.to_numeric(t.values)  # months as integers/floats\n",
    "    # Build datetime by adding month offsets\n",
    "    idx = pd.DatetimeIndex([base + pd.DateOffset(months=int(m)) for m in offs])\n",
    "    return idx\n",
    "\n",
    "# ------------------ 1) Search (full period) & open authenticated ------------------\n",
    "ea.login()\n",
    "results = ea.search_data(\n",
    "    short_name=SHORT_NAME,\n",
    "    version=VERSION,\n",
    "    temporal=TEMPORAL,\n",
    "    # spatial filter is optional (files are global), but harmless:\n",
    "    # bounding_box=OKAV_BBOX,\n",
    ")\n",
    "files = ea.open(results)  # authenticated file-like objects\n",
    "\n",
    "print(f\"Found {len(files)} monthly files across the full record (server may paginate).\")\n",
    "\n",
    "import re\n",
    "\n",
    "def month_from_granule(gran) -> str | None:\n",
    "    \"\"\"\n",
    "    Return 'YYYY-MM' by parsing the granule's name/id/URL.\n",
    "    No temporal metadata, no time decoding.\n",
    "    \"\"\"\n",
    "    # Try producer_granule_id\n",
    "    name = getattr(gran, \"producer_granule_id\", None)\n",
    "    if not isinstance(name, str):\n",
    "        # Try UMM (if present)\n",
    "        umm = getattr(gran, \"umm\", None)\n",
    "        if isinstance(umm, dict):\n",
    "            name = umm.get(\"DataGranule\", {}).get(\"ProducerGranuleId\")\n",
    "    # Try the first link as a last-resort string\n",
    "    if not isinstance(name, str):\n",
    "        try:\n",
    "            links = gran.data_links(access=\"external\") or gran.data_links(access=\"direct\") or []\n",
    "            if links:\n",
    "                name = str(links[0])\n",
    "        except Exception:\n",
    "            name = None\n",
    "\n",
    "    if isinstance(name, str):\n",
    "        m = re.search(r\"(\\d{4})[-_](\\d{2})\", name)\n",
    "        if m:\n",
    "            y, mo = int(m.group(1)), int(m.group(2))\n",
    "            return f\"{y:04d}-{mo:02d}\"\n",
    "    return None\n",
    "\n",
    "\n",
    "def crop_and_save_nc(fobj, granule, idx: int, bbox=OKAV_BBOX) -> Path:\n",
    "    # Open WITHOUT time decoding\n",
    "    for engine in (\"netcdf4\", \"h5netcdf\"):\n",
    "        try:\n",
    "            ds = xr.open_dataset(fobj, engine=engine, decode_times=False, mask_and_scale=True)\n",
    "            break\n",
    "        except Exception:\n",
    "            if engine == \"h5netcdf\":\n",
    "                raise\n",
    "\n",
    "    # Get YYYY-MM from filename/id/URL; else use idx\n",
    "    stamp = month_from_granule(granule)\n",
    "    if not isinstance(stamp, str) or not stamp:\n",
    "        stamp = f\"{idx:04d}\"  # simple numeric fallback, no formatting of non-strings\n",
    "\n",
    "    # Crop\n",
    "    lat, lon = find_lat_lon_names(ds)\n",
    "    lat_slice = aoi_lat_slice(ds, lat, bbox)\n",
    "    sub = ds.sel({lon: slice(bbox[0], bbox[2]), lat: lat_slice})\n",
    "\n",
    "    # Write compressed NetCDF named by month\n",
    "    out_nc = CROPS_DIR / f\"okav_{stamp}.nc\"\n",
    "    if out_nc.exists():  # avoid overwriting duplicates\n",
    "        k = 1\n",
    "        while (CROPS_DIR / f\"okav_{stamp}_{k}.nc\").exists():\n",
    "            k += 1\n",
    "        out_nc = CROPS_DIR / f\"okav_{stamp}_{k}.nc\"\n",
    "\n",
    "    enc = {v: {\"zlib\": True, \"complevel\": 4} for v in sub.data_vars}\n",
    "    sub.to_netcdf(out_nc, encoding=enc)\n",
    "    ds.close()\n",
    "    return out_nc\n",
    "\n",
    "written_nc: List[Path] = []\n",
    "files = ea.open(results)  # authenticated file-like objects\n",
    "\n",
    "for i, (fobj, gran) in enumerate(zip(files, results)):\n",
    "    try:\n",
    "        p = crop_and_save_nc(fobj, gran, i)\n",
    "        print(\"Wrote:\", p.name)\n",
    "        written_nc.append(p)\n",
    "    except Exception as e:\n",
    "        print(\"Skipped one ->\", e)\n",
    "\n",
    "# Sort by filename so order is chronological when YYYY-MM worked\n",
    "written_nc = sorted(written_nc, key=lambda p: p.name)\n",
    "print(f\"Per-month crops written: {len(written_nc)} -> {CROPS_DIR}\")\n",
    "\n"
   ]
  },
  {
   "cell_type": "code",
   "execution_count": 13,
   "id": "c7478b59",
   "metadata": {},
   "outputs": [
    {
     "data": {
      "application/vnd.jupyter.widget-view+json": {
       "model_id": "a6af69d7170e4706a15cac765534d3db",
       "version_major": 2,
       "version_minor": 0
      },
      "text/plain": [
       "QUEUEING TASKS | :   0%|          | 0/2 [00:00<?, ?it/s]"
      ]
     },
     "metadata": {},
     "output_type": "display_data"
    },
    {
     "data": {
      "application/vnd.jupyter.widget-view+json": {
       "model_id": "5c8768796fb44200ba09bcf333ecfc3c",
       "version_major": 2,
       "version_minor": 0
      },
      "text/plain": [
       "PROCESSING TASKS | :   0%|          | 0/2 [00:00<?, ?it/s]"
      ]
     },
     "metadata": {},
     "output_type": "display_data"
    },
    {
     "data": {
      "application/vnd.jupyter.widget-view+json": {
       "model_id": "a715a6b422414de39cc8b42cde1c4540",
       "version_major": 2,
       "version_minor": 0
      },
      "text/plain": [
       "COLLECTING RESULTS | :   0%|          | 0/2 [00:00<?, ?it/s]"
      ]
     },
     "metadata": {},
     "output_type": "display_data"
    },
    {
     "name": "stdout",
     "output_type": "stream",
     "text": [
      "Trial file written: cygnss_okavango_full/crops_nc/okav_2023-08_2.nc\n"
     ]
    },
    {
     "data": {
      "image/png": "[encoded data removed]",
      "text/plain": [
       "<Figure size 700x600 with 2 Axes>"
      ]
     },
     "metadata": {},
     "output_type": "display_data"
    }
   ],
   "source": [
    "# --- One-month trial (e.g., Aug 2023) ---\n",
    "TRIAL_RANGE = (\"2023-08-01\", \"2023-09-01\")  # end is exclusive\n",
    "\n",
    "ea.login()\n",
    "trial_results = ea.search_data(\n",
    "    short_name=SHORT_NAME,\n",
    "    version=VERSION,\n",
    "    temporal=TRIAL_RANGE,\n",
    ")\n",
    "assert trial_results, \"No granules found for the trial month.\"\n",
    "\n",
    "trial_files = ea.open(trial_results)\n",
    "\n",
    "# Pass BOTH the file-like object and its granule to keep YYYY-MM naming\n",
    "trial_path = crop_and_save_nc(trial_files[0], trial_results[0], idx=0, bbox=OKAV_BBOX)\n",
    "print(\"Trial file written:\", trial_path)\n",
    "\n",
    "# visualize\n",
    "ds_trial = xr.open_dataset(trial_path, decode_times=False)\n",
    "lat, lon = find_lat_lon_names(ds_trial)\n",
    "varname  = pick_var_with_latlon(ds_trial, lat, lon)\n",
    "da = ds_trial[varname]\n",
    "tdim = next((d for d in da.dims if d.lower().startswith(\"time\")), None)\n",
    "if tdim is not None:\n",
    "    da = da.isel({tdim: 0}).squeeze(drop=True)\n",
    "\n",
    "plt.figure(figsize=(7,6))\n",
    "plt.pcolormesh(ds_trial[lon], ds_trial[lat], da, shading=\"auto\")\n",
    "plt.colorbar(label=varname)\n",
    "plt.title(f\"CYGNSS Watermask — Okavango ({trial_path.stem.replace('okav_', '')})\")\n",
    "plt.xlabel(\"Longitude\"); plt.ylabel(\"Latitude\")\n",
    "plt.tight_layout(); plt.show()\n",
    "ds_trial.close()\n"
   ]
  },
  {
   "cell_type": "code",
   "execution_count": null,
   "id": "99892f81",
   "metadata": {},
   "outputs": [],
   "source": []
  }
 ],
 "metadata": {
  "kernelspec": {
   "display_name": "ee",
   "language": "python",
   "name": "ee"
  },
  "language_info": {
   "codemirror_mode": {
    "name": "ipython",
    "version": 3
   },
   "file_extension": ".py",
   "mimetype": "text/x-python",
   "name": "python",
   "nbconvert_exporter": "python",
   "pygments_lexer": "ipython3",
   "version": "3.11.8"
  }
 },
 "nbformat": 4,
 "nbformat_minor": 5
}
