{
 "cells": [
  {
   "cell_type": "code",
   "execution_count": 1,
   "id": "e13793d5",
   "metadata": {},
   "outputs": [],
   "source": [
    "import os, sys\n",
    "project_root = os.path.abspath(os.path.join(os.getcwd(), '..'))\n",
    "\n",
    "if project_root not in sys.path:\n",
    "\n",
    "    sys.path.append(project_root)\n",
    "    sys.path.append( os.path.join(project_root , 'src'))\n",
    "\n",
    "%load_ext autoreload\n",
    "%autoreload 2\n",
    "\n",
    "\n",
    "from gee_utils import (\n",
    "    walk_assets,\n",
    "    make_tree_public,\n",
    "    share_tree_with_user,\n",
    ")\n"
   ]
  },
  {
   "cell_type": "code",
   "execution_count": 2,
   "id": "2f39b454",
   "metadata": {},
   "outputs": [
    {
     "name": "stderr",
     "output_type": "stream",
     "text": [
      "*** Earth Engine *** Share your feedback by taking our Annual Developer Satisfaction Survey: https://google.qualtrics.com/jfe/form/SV_7TDKVSyKvBdmMqW?ref=4i2o6\n"
     ]
    }
   ],
   "source": [
    "import ee, geetools\n",
    "ee.Initialize()"
   ]
  },
  {
   "cell_type": "code",
   "execution_count": 3,
   "id": "830688fe",
   "metadata": {},
   "outputs": [],
   "source": [
    "import sys, os\n",
    "sys.path.append(os.path.abspath(os.path.join(os.getcwd(), '..')))\n",
    "from src.gee_utils import (\n",
    "    upload_to_gee,\n",
    "    check_asset_types,\n",
    "    inspect_asset_metadata,\n",
    "    count_assets_in_folder,\n",
    "    create_gee_folder,\n",
    "    delete_all_subfolders,\n",
    "    make_assets_public,\n",
    "    walk_assets,\n",
    "    make_tree_public,\n",
    ")"
   ]
  },
  {
   "cell_type": "code",
   "execution_count": 4,
   "id": "e9f1324b",
   "metadata": {
    "scrolled": true
   },
   "outputs": [
    {
     "name": "stdout",
     "output_type": "stream",
     "text": [
      "Source: ../data/OkavangoDelta_flooding-master/Rasters/Annual_inundation_maps/InundationMap_2008.tif\n",
      "Asset:  projects/ee-okavango/assets/Inman_Lyons/Annual_inundation_maps/InundationMap_2008\n",
      "Source: ../data/OkavangoDelta_flooding-master/Rasters/Annual_inundation_maps/InundationMap_2018.tif\n",
      "Asset:  projects/ee-okavango/assets/Inman_Lyons/Annual_inundation_maps/InundationMap_2018\n",
      "Source: ../data/OkavangoDelta_flooding-master/Rasters/Annual_inundation_maps/InundationMap_2019.tif\n",
      "Asset:  projects/ee-okavango/assets/Inman_Lyons/Annual_inundation_maps/InundationMap_2019\n",
      "Source: ../data/OkavangoDelta_flooding-master/Rasters/Annual_inundation_maps/InundationMap_1991.tif\n",
      "Asset:  projects/ee-okavango/assets/Inman_Lyons/Annual_inundation_maps/InundationMap_1991\n",
      "Source: ../data/OkavangoDelta_flooding-master/Rasters/Annual_inundation_maps/InundationMap_1990.tif\n",
      "Asset:  projects/ee-okavango/assets/Inman_Lyons/Annual_inundation_maps/InundationMap_1990\n"
     ]
    }
   ],
   "source": [
    "import os\n",
    "\n",
    "# Local folder with GeoTIFFs\n",
    "local_folder = \"../data/OkavangoDelta_flooding-master/Rasters/Annual_inundation_maps\"\n",
    "\n",
    "# GEE asset folder\n",
    "gee_asset_folder = \"projects/ee-okavango/assets/Inman_Lyons/Annual_inundation_maps\"\n",
    "\n",
    "# List all .tif files\n",
    "tif_files = [f for f in os.listdir(local_folder) if f.endswith(\".tif\")]\n",
    "\n",
    "for tif in tif_files[:5]:\n",
    "    local_path = os.path.join(local_folder, tif)\n",
    "    upload_to_gee(local_path, gee_asset_folder, execute=False)\n"
   ]
  },
  {
   "cell_type": "code",
   "execution_count": 8,
   "id": "eb0d9aca",
   "metadata": {},
   "outputs": [
    {
     "data": {
      "text/plain": [
       "['projects/ee-okavango/assets/water_masks/Lungwebungu_Sent2_DSWE_monthly_10m',\n",
       " 'projects/ee-okavango/assets/water_masks/Moxico_Sent2_DSWE_monthly_10m',\n",
       " 'projects/ee-okavango/assets/water_masks/Sudd_Sent2_DSWE_monthly_10m',\n",
       " 'projects/ee-okavango/assets/water_masks/composites',\n",
       " 'projects/ee-okavango/assets/water_masks/lukas_binarized_months',\n",
       " 'projects/ee-okavango/assets/water_masks/monthly_DSWE_Landsat_30m',\n",
       " 'projects/ee-okavango/assets/water_masks/monthly_DSWE_Landsat_30m_v2',\n",
       " 'projects/ee-okavango/assets/water_masks/monthly_DSWE_Sent2_10m',\n",
       " 'projects/ee-okavango/assets/water_masks/monthly_DSWE_Sent2_10m_v2',\n",
       " 'projects/ee-okavango/assets/water_masks/sampled_DSWE',\n",
       " 'projects/ee-okavango/assets/water_masks/sentinel_2_dswe_5day_composites',\n",
       " 'projects/ee-okavango/assets/water_masks/yearly_DSWE_Sent2_10m_winnie']"
      ]
     },
     "execution_count": 8,
     "metadata": {},
     "output_type": "execute_result"
    }
   ],
   "source": [
    "asset_list = [d['id'] for d in \n",
    "              ee.data.listAssets(\"projects/ee-okavango/assets/water_masks\")['assets']]\n",
    "\n",
    "asset_list"
   ]
  },
  {
   "cell_type": "code",
   "execution_count": 9,
   "id": "5df04155",
   "metadata": {},
   "outputs": [
    {
     "data": {
      "text/plain": [
       "{'type': 'FeatureCollection',\n",
       " 'columns': {'system:index': 'String'},\n",
       " 'version': 1733849180036364,\n",
       " 'id': 'projects/ee-okavango/assets/shapes/testing_grounds_20241127',\n",
       " 'properties': {'system:asset_size': 7369},\n",
       " 'features': [{'type': 'Feature',\n",
       "   'geometry': {'type': 'Polygon',\n",
       "    'coordinates': [[[22.969779905690068, -19.103550567786034],\n",
       "      [22.982804225398247, -19.33262114707843],\n",
       "      [23.180895834770727, -19.336720261980165],\n",
       "      [23.17084528571743, -19.2183413491786],\n",
       "      [23.160818226000984, -19.099959096000124],\n",
       "      [22.969779905690068, -19.103550567786034]]]},\n",
       "   'id': '00000000000000000000',\n",
       "   'properties': {}}]}"
      ]
     },
     "execution_count": 9,
     "metadata": {},
     "output_type": "execute_result"
    }
   ],
   "source": [
    "asset_path = 'projects/ee-okavango/assets/shapes/testing_grounds_20241127'\n",
    "asset = ee.FeatureCollection(asset_path)\n",
    "\n",
    "# Get information about the asset\n",
    "info = asset.getInfo()\n",
    "\n",
    "info"
   ]
  },
  {
   "cell_type": "code",
   "execution_count": 15,
   "id": "b86c2c39",
   "metadata": {},
   "outputs": [
    {
     "name": "stdout",
     "output_type": "stream",
     "text": [
      "{'owners': [], 'readers': ['user:aaronkoop@gmail.com', 'user:quatratavia@gmail.com'], 'writers': ['user:quatratavia@gmail.com', 'user:quatratavia@gmail.com'], 'all_users_can_read': True}\n",
      "{'owners': [], 'readers': ['user:aaronkoop@gmail.com', 'user:quatratavia@gmail.com'], 'writers': ['user:quatratavia@gmail.com', 'user:quatratavia@gmail.com']}\n",
      "{'owners': [], 'readers': ['user:aaronkoop@gmail.com', 'user:quatratavia@gmail.com'], 'writers': ['user:quatratavia@gmail.com', 'user:quatratavia@gmail.com']}\n",
      "{'owners': [], 'readers': ['user:aaronkoop@gmail.com', 'user:quatratavia@gmail.com'], 'writers': ['user:quatratavia@gmail.com', 'user:quatratavia@gmail.com']}\n",
      "{'owners': [], 'readers': ['user:aaronkoop@gmail.com', 'user:quatratavia@gmail.com'], 'writers': ['user:quatratavia@gmail.com', 'user:quatratavia@gmail.com']}\n",
      "{'owners': [], 'readers': ['user:aaronkoop@gmail.com', 'user:quatratavia@gmail.com'], 'writers': ['user:quatratavia@gmail.com', 'user:quatratavia@gmail.com']}\n",
      "{'owners': [], 'readers': ['user:aaronkoop@gmail.com', 'user:quatratavia@gmail.com'], 'writers': ['user:quatratavia@gmail.com', 'user:quatratavia@gmail.com']}\n",
      "{'owners': [], 'readers': ['user:aaronkoop@gmail.com', 'user:quatratavia@gmail.com'], 'writers': ['user:quatratavia@gmail.com', 'user:quatratavia@gmail.com']}\n",
      "{'owners': [], 'readers': ['user:aaronkoop@gmail.com', 'user:quatratavia@gmail.com'], 'writers': ['user:quatratavia@gmail.com', 'user:quatratavia@gmail.com']}\n",
      "{'owners': [], 'readers': ['user:aaronkoop@gmail.com', 'user:quatratavia@gmail.com'], 'writers': ['user:quatratavia@gmail.com', 'user:quatratavia@gmail.com']}\n",
      "{'owners': [], 'readers': ['user:aaronkoop@gmail.com', 'user:quatratavia@gmail.com'], 'writers': ['user:quatratavia@gmail.com', 'user:quatratavia@gmail.com']}\n",
      "{'owners': [], 'readers': ['user:aaronkoop@gmail.com', 'user:quatratavia@gmail.com'], 'writers': ['user:quatratavia@gmail.com', 'user:quatratavia@gmail.com']}\n",
      "{'owners': [], 'readers': ['user:aaronkoop@gmail.com', 'user:quatratavia@gmail.com'], 'writers': ['user:quatratavia@gmail.com', 'user:quatratavia@gmail.com']}\n",
      "{'owners': [], 'readers': ['user:aaronkoop@gmail.com', 'user:quatratavia@gmail.com'], 'writers': ['user:quatratavia@gmail.com', 'user:quatratavia@gmail.com']}\n",
      "{'owners': [], 'readers': ['user:aaronkoop@gmail.com', 'user:quatratavia@gmail.com'], 'writers': ['user:quatratavia@gmail.com', 'user:quatratavia@gmail.com']}\n",
      "{'owners': [], 'readers': ['user:aaronkoop@gmail.com', 'user:quatratavia@gmail.com'], 'writers': ['user:quatratavia@gmail.com', 'user:quatratavia@gmail.com']}\n",
      "{'owners': [], 'readers': ['user:aaronkoop@gmail.com', 'user:quatratavia@gmail.com'], 'writers': ['user:quatratavia@gmail.com', 'user:quatratavia@gmail.com']}\n",
      "{'owners': [], 'readers': ['user:aaronkoop@gmail.com', 'user:quatratavia@gmail.com'], 'writers': ['user:quatratavia@gmail.com', 'user:quatratavia@gmail.com']}\n",
      "{'owners': [], 'readers': ['user:aaronkoop@gmail.com', 'user:quatratavia@gmail.com'], 'writers': ['user:quatratavia@gmail.com', 'user:quatratavia@gmail.com']}\n",
      "{'owners': [], 'readers': ['user:aaronkoop@gmail.com', 'user:quatratavia@gmail.com'], 'writers': ['user:quatratavia@gmail.com', 'user:quatratavia@gmail.com']}\n",
      "{'owners': [], 'readers': ['user:aaronkoop@gmail.com', 'user:quatratavia@gmail.com'], 'writers': ['user:quatratavia@gmail.com', 'user:quatratavia@gmail.com']}\n",
      "{'owners': [], 'readers': ['user:aaronkoop@gmail.com', 'user:quatratavia@gmail.com'], 'writers': ['user:quatratavia@gmail.com', 'user:quatratavia@gmail.com']}\n",
      "{'owners': [], 'readers': ['user:aaronkoop@gmail.com', 'user:quatratavia@gmail.com'], 'writers': ['user:quatratavia@gmail.com', 'user:quatratavia@gmail.com']}\n",
      "{'owners': [], 'readers': ['user:aaronkoop@gmail.com', 'user:quatratavia@gmail.com'], 'writers': ['user:quatratavia@gmail.com', 'user:quatratavia@gmail.com']}\n",
      "{'owners': [], 'readers': ['user:aaronkoop@gmail.com', 'user:quatratavia@gmail.com'], 'writers': ['user:quatratavia@gmail.com', 'user:quatratavia@gmail.com']}\n",
      "{'owners': [], 'readers': ['user:aaronkoop@gmail.com', 'user:quatratavia@gmail.com'], 'writers': ['user:quatratavia@gmail.com', 'user:quatratavia@gmail.com']}\n",
      "{'owners': [], 'readers': ['user:aaronkoop@gmail.com', 'user:quatratavia@gmail.com'], 'writers': ['user:quatratavia@gmail.com', 'user:quatratavia@gmail.com']}\n",
      "{'owners': [], 'readers': ['user:aaronkoop@gmail.com', 'user:quatratavia@gmail.com'], 'writers': ['user:quatratavia@gmail.com', 'user:quatratavia@gmail.com']}\n",
      "{'owners': [], 'readers': ['user:aaronkoop@gmail.com', 'user:quatratavia@gmail.com'], 'writers': ['user:quatratavia@gmail.com', 'user:quatratavia@gmail.com']}\n",
      "{'owners': [], 'readers': ['user:aaronkoop@gmail.com', 'user:quatratavia@gmail.com'], 'writers': ['user:quatratavia@gmail.com', 'user:quatratavia@gmail.com']}\n",
      "{'owners': [], 'readers': ['user:aaronkoop@gmail.com', 'user:quatratavia@gmail.com'], 'writers': ['user:quatratavia@gmail.com', 'user:quatratavia@gmail.com']}\n",
      "{'owners': [], 'readers': ['user:aaronkoop@gmail.com', 'user:quatratavia@gmail.com'], 'writers': ['user:quatratavia@gmail.com', 'user:quatratavia@gmail.com']}\n",
      "{'owners': [], 'readers': ['user:aaronkoop@gmail.com', 'user:quatratavia@gmail.com'], 'writers': ['user:quatratavia@gmail.com', 'user:quatratavia@gmail.com']}\n",
      "{'owners': [], 'readers': ['user:aaronkoop@gmail.com', 'user:quatratavia@gmail.com'], 'writers': ['user:quatratavia@gmail.com', 'user:quatratavia@gmail.com']}\n",
      "{'owners': [], 'readers': ['user:aaronkoop@gmail.com', 'user:quatratavia@gmail.com'], 'writers': ['user:quatratavia@gmail.com', 'user:quatratavia@gmail.com']}\n",
      "{'owners': [], 'readers': ['user:aaronkoop@gmail.com', 'user:quatratavia@gmail.com'], 'writers': ['user:quatratavia@gmail.com', 'user:quatratavia@gmail.com']}\n",
      "{'owners': [], 'readers': ['user:aaronkoop@gmail.com', 'user:quatratavia@gmail.com'], 'writers': ['user:quatratavia@gmail.com', 'user:quatratavia@gmail.com']}\n",
      "{'owners': [], 'readers': ['user:aaronkoop@gmail.com', 'user:quatratavia@gmail.com'], 'writers': ['user:quatratavia@gmail.com', 'user:quatratavia@gmail.com']}\n",
      "{'owners': [], 'readers': ['user:aaronkoop@gmail.com', 'user:quatratavia@gmail.com'], 'writers': ['user:quatratavia@gmail.com', 'user:quatratavia@gmail.com']}\n",
      "{'owners': [], 'readers': ['user:aaronkoop@gmail.com', 'user:quatratavia@gmail.com'], 'writers': ['user:quatratavia@gmail.com', 'user:quatratavia@gmail.com']}\n",
      "{'owners': [], 'readers': ['user:aaronkoop@gmail.com', 'user:quatratavia@gmail.com'], 'writers': ['user:quatratavia@gmail.com', 'user:quatratavia@gmail.com']}\n",
      "{'owners': [], 'readers': ['user:aaronkoop@gmail.com', 'user:quatratavia@gmail.com'], 'writers': ['user:quatratavia@gmail.com', 'user:quatratavia@gmail.com']}\n",
      "{'owners': [], 'readers': ['user:aaronkoop@gmail.com', 'user:quatratavia@gmail.com'], 'writers': ['user:quatratavia@gmail.com', 'user:quatratavia@gmail.com']}\n",
      "{'owners': [], 'readers': ['user:aaronkoop@gmail.com', 'user:quatratavia@gmail.com'], 'writers': ['user:quatratavia@gmail.com', 'user:quatratavia@gmail.com']}\n",
      "{'owners': [], 'readers': ['user:aaronkoop@gmail.com', 'user:quatratavia@gmail.com'], 'writers': ['user:quatratavia@gmail.com', 'user:quatratavia@gmail.com']}\n",
      "{'owners': [], 'readers': ['user:aaronkoop@gmail.com', 'user:quatratavia@gmail.com'], 'writers': ['user:quatratavia@gmail.com', 'user:quatratavia@gmail.com']}\n",
      "{'owners': [], 'readers': ['user:aaronkoop@gmail.com', 'user:quatratavia@gmail.com'], 'writers': ['user:quatratavia@gmail.com', 'user:quatratavia@gmail.com']}\n",
      "{'owners': [], 'readers': ['user:aaronkoop@gmail.com', 'user:quatratavia@gmail.com'], 'writers': ['user:quatratavia@gmail.com', 'user:quatratavia@gmail.com']}\n",
      "{'owners': [], 'readers': ['user:aaronkoop@gmail.com', 'user:quatratavia@gmail.com'], 'writers': ['user:quatratavia@gmail.com', 'user:quatratavia@gmail.com']}\n",
      "{'owners': [], 'readers': ['user:aaronkoop@gmail.com', 'user:quatratavia@gmail.com'], 'writers': ['user:quatratavia@gmail.com', 'user:quatratavia@gmail.com']}\n",
      "{'owners': [], 'readers': ['user:aaronkoop@gmail.com', 'user:quatratavia@gmail.com'], 'writers': ['user:quatratavia@gmail.com', 'user:quatratavia@gmail.com']}\n",
      "{'owners': [], 'readers': ['user:aaronkoop@gmail.com', 'user:quatratavia@gmail.com'], 'writers': ['user:quatratavia@gmail.com']}\n"
     ]
    },
    {
     "name": "stdout",
     "output_type": "stream",
     "text": [
      "{'owners': [], 'readers': ['user:aaronkoop@gmail.com', 'user:quatratavia@gmail.com'], 'writers': ['user:quatratavia@gmail.com']}\n",
      "{'owners': [], 'readers': ['user:aaronkoop@gmail.com', 'user:quatratavia@gmail.com'], 'writers': ['user:quatratavia@gmail.com']}\n",
      "{'owners': [], 'readers': ['user:aaronkoop@gmail.com', 'user:quatratavia@gmail.com'], 'writers': ['user:quatratavia@gmail.com']}\n",
      "{'owners': [], 'readers': ['user:aaronkoop@gmail.com', 'user:quatratavia@gmail.com'], 'writers': ['user:quatratavia@gmail.com']}\n"
     ]
    }
   ],
   "source": [
    "\n",
    "def set_folder_permissions(folder_path, email, role=\"READER\"):\n",
    "    # List all assets in the folder\n",
    "    asset_list = ee.data.listAssets({'parent': folder_path})['assets']\n",
    "    \n",
    "\n",
    "    for asset in asset_list:\n",
    "        asset_id = asset['id']\n",
    "        # Get current access control list (ACL) for the asset\n",
    "        acl = ee.data.getAssetAcl(asset_id)\n",
    "        \n",
    "        # Update ACL to share with the new user\n",
    "        acl['owners'] = acl.get('owners', [])\n",
    "        acl['writers'] = acl.get('writers', [])\n",
    "        acl['readers'] = acl.get('readers', [])\n",
    "        \n",
    "        if role == \"READER\":\n",
    "            acl['readers'].append(f\"user:{email}\")  # Add the user prefix\n",
    "        elif role == \"WRITER\":\n",
    "            \n",
    "            acl['writers'].append(f\"user:{email}\")  # Add the user prefix\n",
    "        print (acl )\n",
    "        \n",
    "        # Set the new ACL for the asset\n",
    "        ee.data.setAssetAcl(asset_id, acl)\n",
    "\n",
    "# Example usage\n",
    "folder_path = \"projects/ee-quatratavia/assets/berms/DEP3\"\n",
    "user_email = 'quatratavia@gmail.com'  # Email of the user you want to share with\n",
    "set_folder_permissions(folder_path, user_email, role=\"WRITER\")  # Role can be \"READER\" or \"WRITER\"\n"
   ]
  },
  {
   "cell_type": "code",
   "execution_count": 16,
   "id": "7582de56",
   "metadata": {},
   "outputs": [],
   "source": [
    "# Code to move assets around\n",
    "src = ee.Asset(\"projects/ee-quatratavia/assets/monthly_LST\")\n",
    "dst = ee.Asset(\"projects/ee-quatratavia/assets/CA_fire/monthly_LST\")\n",
    "\n",
    "# src.move(dst)\n"
   ]
  },
  {
   "cell_type": "code",
   "execution_count": 17,
   "id": "c264d2b2",
   "metadata": {},
   "outputs": [],
   "source": [
    "src = ee.Asset(\"projects/ee-quatratavia/assets/MBTS\")\n",
    "dst = ee.Asset(\"projects/ee-quatratavia/assets/CA_fire/MBTS\")\n",
    "\n",
    "# src.move(dst)\n"
   ]
  },
  {
   "cell_type": "code",
   "execution_count": 18,
   "id": "9c44be0e",
   "metadata": {},
   "outputs": [],
   "source": [
    "# Polygon-based conditional deletion with safety & dry-run\n",
    "import ee\n",
    "\n",
    "def delete_images_outside_polygon(folder_path: str, polygon_fc_path: str, dry_run: bool = True, limit: int | None = None):\n",
    "    \"\"\"Delete (optionally dry-run) images in a folder whose geometry lies completely outside a polygon.\n",
    "\n",
    "    Args:\n",
    "        folder_path: GEE folder containing image assets.\n",
    "        polygon_fc_path: FeatureCollection asset containing at least one feature (first used as polygon).\n",
    "        dry_run: If True, only print planned deletions.\n",
    "        limit: If set, only evaluate up to this many assets (debug / safety).\n",
    "    \"\"\"\n",
    "    ee.Initialize()\n",
    "    try:\n",
    "        polygon_fc = ee.FeatureCollection(polygon_fc_path).first()\n",
    "        if polygon_fc is None:\n",
    "            print(\"Polygon FeatureCollection is empty; aborting.\")\n",
    "            return\n",
    "        polygon_geometry = polygon_fc.geometry()\n",
    "    except Exception as e:\n",
    "        print(f\"Failed to load polygon: {e}\")\n",
    "        return\n",
    "\n",
    "    try:\n",
    "        assets = ee.data.listAssets({'parent': folder_path}).get('assets', [])\n",
    "    except Exception as e:\n",
    "        print(f\"Failed to list assets in {folder_path}: {e}\")\n",
    "        return\n",
    "\n",
    "    if limit is not None:\n",
    "        assets = assets[:limit]\n",
    "\n",
    "    to_delete = []\n",
    "    kept = 0\n",
    "    for asset in assets:\n",
    "        aid = asset.get('name') or asset.get('id')\n",
    "        if not aid:\n",
    "            continue\n",
    "        try:\n",
    "            img = ee.Image(aid)\n",
    "            img_geom = img.geometry()\n",
    "            outside = ee.Algorithms.IsEqual(img_geom.intersection(polygon_geometry, 1).area(), 0).getInfo()\n",
    "            if outside:\n",
    "                to_delete.append(aid)\n",
    "            else:\n",
    "                kept += 1\n",
    "        except Exception as e:\n",
    "            print(f\"Skipping {aid}: {e}\")\n",
    "\n",
    "    print(f\"Planned deletions: {len(to_delete)} | Kept (inside): {kept}\")\n",
    "    for aid in to_delete:\n",
    "        print(f\"DELETE -> {aid}\")\n",
    "\n",
    "    if dry_run:\n",
    "        print(\"Dry-run mode, no deletions executed.\")\n",
    "        return\n",
    "\n",
    "    for aid in to_delete:\n",
    "        try:\n",
    "            ee.data.deleteAsset(aid)\n",
    "            print(f\"Deleted {aid}\")\n",
    "        except Exception as e:\n",
    "            print(f\"Failed to delete {aid}: {e}\")\n",
    "\n",
    "# Example usage (dry-run)\n",
    "# delete_images_outside_polygon(\n",
    "#     folder_path=\"projects/ee-okavango/assets/dsms\",\n",
    "#     polygon_fc_path=\"projects/ee-okavango/assets/shapes/testing_grounds_20241127\",\n",
    "#     dry_run=True,\n",
    "#     limit=25,\n",
    "# )\n"
   ]
  },
  {
   "cell_type": "code",
   "execution_count": 19,
   "id": "5069e6eb",
   "metadata": {},
   "outputs": [
    {
     "name": "stdout",
     "output_type": "stream",
     "text": [
      "Failed to list assets under projects/ee-okavango/assets/dsms: Asset \"projects/ee-okavango/assets/dsms\" not found.\n",
      "FAILED: projects/ee-okavango/assets/dsms -> Asset 'gcp_projects/956467029386/dsms' does not exist or doesn't allow this operation.\n"
     ]
    }
   ],
   "source": [
    "# Share all assets under a root with a specific user (dry-run first)\n",
    "from src.gee_utils import share_tree_with_user\n",
    "\n",
    "ROOT = \"projects/ee-okavango/assets/dsms\"\n",
    "EMAIL = \"user@example.com\"  # or use 'group:my-group@domain' for groups\n",
    "\n",
    "# Dry run: prints what would change\n",
    "share_tree_with_user(ROOT, EMAIL, role='READER', dry_run=True)\n",
    "\n",
    "# When ready to apply, set dry_run=False\n",
    "# share_tree_with_user(ROOT, EMAIL, role='READER', dry_run=False, sleep_sec=0.1)\n"
   ]
  },
  {
   "cell_type": "code",
   "execution_count": null,
   "id": "d77be6ae",
   "metadata": {},
   "outputs": [],
   "source": []
  }
 ],
 "metadata": {
  "kernelspec": {
   "display_name": "ee",
   "language": "python",
   "name": "ee"
  },
  "language_info": {
   "codemirror_mode": {
    "name": "ipython",
    "version": 3
   },
   "file_extension": ".py",
   "mimetype": "text/x-python",
   "name": "python",
   "nbconvert_exporter": "python",
   "pygments_lexer": "ipython3",
   "version": "3.11.8"
  }
 },
 "nbformat": 4,
 "nbformat_minor": 5
}
