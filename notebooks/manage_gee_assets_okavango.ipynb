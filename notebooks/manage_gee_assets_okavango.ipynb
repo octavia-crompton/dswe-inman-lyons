{
 "cells": [
  {
   "cell_type": "code",
   "execution_count": 2,
   "id": "e13793d5",
   "metadata": {},
   "outputs": [
    {
     "name": "stdout",
     "output_type": "stream",
     "text": [
      "The autoreload extension is already loaded. To reload it, use:\n",
      "  %reload_ext autoreload\n"
     ]
    }
   ],
   "source": [
    "# Auto-reload changes in src while developing\n",
    "import sys, os\n",
    "sys.path.append(os.path.abspath(os.path.join(os.getcwd(), '..')))\n",
    "\n",
    "%load_ext autoreload\n",
    "%autoreload 2\n",
    "%aimport src.gee_utils"
   ]
  },
  {
   "cell_type": "code",
   "execution_count": 37,
   "id": "2f39b454",
   "metadata": {},
   "outputs": [],
   "source": [
    "import ee, geetools\n",
    "ee.Initialize()"
   ]
  },
  {
   "cell_type": "code",
   "execution_count": 39,
   "id": "830688fe",
   "metadata": {},
   "outputs": [],
   "source": [
    "import sys, os\n",
    "sys.path.append(os.path.abspath(os.path.join(os.getcwd(), '..')))\n",
    "from src.gee_utils import (\n",
    "    upload_to_gee,\n",
    "    check_asset_types,\n",
    "    inspect_asset_metadata,\n",
    "    count_assets_in_folder,\n",
    "    create_gee_folder,\n",
    "    delete_all_subfolders,\n",
    "    make_assets_public,\n",
    "    walk_assets,\n",
    "    make_tree_public,\n",
    ")"
   ]
  },
  {
   "cell_type": "code",
   "execution_count": null,
   "id": "e9f1324b",
   "metadata": {
    "scrolled": true
   },
   "outputs": [
    {
     "name": "stdout",
     "output_type": "stream",
     "text": [
      "Source: ../data/OkavangoDelta_flooding-master/Rasters/Annual_inundation_maps/InundationMap_2008.tif\n",
      "Asset:  projects/ee-okavango/assets/Inman_Lyons/Annual_inundation_maps/InundationMap_2008\n",
      "Source: ../data/OkavangoDelta_flooding-master/Rasters/Annual_inundation_maps/InundationMap_2018.tif\n",
      "Asset:  projects/ee-okavango/assets/Inman_Lyons/Annual_inundation_maps/InundationMap_2018\n",
      "Source: ../data/OkavangoDelta_flooding-master/Rasters/Annual_inundation_maps/InundationMap_2019.tif\n",
      "Asset:  projects/ee-okavango/assets/Inman_Lyons/Annual_inundation_maps/InundationMap_2019\n",
      "Source: ../data/OkavangoDelta_flooding-master/Rasters/Annual_inundation_maps/InundationMap_1991.tif\n",
      "Asset:  projects/ee-okavango/assets/Inman_Lyons/Annual_inundation_maps/InundationMap_1991\n",
      "Source: ../data/OkavangoDelta_flooding-master/Rasters/Annual_inundation_maps/InundationMap_1990.tif\n",
      "Asset:  projects/ee-okavango/assets/Inman_Lyons/Annual_inundation_maps/InundationMap_1990\n"
     ]
    }
   ],
   "source": [
    "import os\n",
    "\n",
    "# Local folder with GeoTIFFs\n",
    "local_folder = \"../data/OkavangoDelta_flooding-master/Rasters/Annual_inundation_maps\"\n",
    "\n",
    "# GEE asset folder\n",
    "gee_asset_folder = \"projects/ee-okavango/assets/Inman_Lyons/Annual_inundation_maps\"\n",
    "\n",
    "# List all .tif files\n",
    "tif_files = [f for f in os.listdir(local_folder) if f.endswith(\".tif\")]\n",
    "\n",
    "for tif in tif_files[:5]:\n",
    "    local_path = os.path.join(local_folder, tif)\n",
    "    upload_to_gee(local_path, gee_asset_folder, execute=False)\n",
    "djfkl   "
   ]
  },
  {
   "cell_type": "code",
   "execution_count": 44,
   "id": "eb0d9aca",
   "metadata": {},
   "outputs": [
    {
     "data": {
      "text/plain": [
       "['projects/ee-okavango/assets/dsms/34s6807960_20230709_dtm_1_100_egm08_cog',\n",
       " 'projects/ee-okavango/assets/dsms/34s6807965_20230709_ds2_1_100_egm08_cog',\n",
       " 'projects/ee-okavango/assets/dsms/34s6807965_20230709_dsm_1_100_egm08_cog',\n",
       " 'projects/ee-okavango/assets/dsms/34s6807965_20230709_dtm_1_100_egm08_cog',\n",
       " 'projects/ee-okavango/assets/dsms/34s6807970_20230709_ds2_1_100_egm08_cog',\n",
       " 'projects/ee-okavango/assets/dsms/34s6807970_20230709_dsm_1_100_egm08_cog']"
      ]
     },
     "execution_count": 44,
     "metadata": {},
     "output_type": "execute_result"
    }
   ],
   "source": [
    "asset_list = [d['id'] for d in \n",
    "              ee.data.listAssets(\"projects/ee-okavango/assets/dsms\")['assets']]\n",
    "\n",
    "asset_list[:6]"
   ]
  },
  {
   "cell_type": "code",
   "execution_count": 45,
   "id": "5df04155",
   "metadata": {},
   "outputs": [
    {
     "data": {
      "text/plain": [
       "{'type': 'FeatureCollection',\n",
       " 'columns': {'system:index': 'String'},\n",
       " 'version': 1733849180036364,\n",
       " 'id': 'projects/ee-okavango/assets/shapes/testing_grounds_20241127',\n",
       " 'properties': {'system:asset_size': 7369},\n",
       " 'features': [{'type': 'Feature',\n",
       "   'geometry': {'type': 'Polygon',\n",
       "    'coordinates': [[[22.969779905690068, -19.103550567786034],\n",
       "      [22.982804225398247, -19.33262114707843],\n",
       "      [23.180895834770727, -19.336720261980165],\n",
       "      [23.17084528571743, -19.2183413491786],\n",
       "      [23.160818226000984, -19.099959096000124],\n",
       "      [22.969779905690068, -19.103550567786034]]]},\n",
       "   'id': '00000000000000000000',\n",
       "   'properties': {}}]}"
      ]
     },
     "execution_count": 45,
     "metadata": {},
     "output_type": "execute_result"
    }
   ],
   "source": [
    "asset_path = 'projects/ee-okavango/assets/shapes/testing_grounds_20241127'\n",
    "asset = ee.FeatureCollection(asset_path)\n",
    "\n",
    "# Get information about the asset\n",
    "info = asset.getInfo()\n",
    "\n",
    "info"
   ]
  },
  {
   "cell_type": "code",
   "execution_count": null,
   "id": "b86c2c39",
   "metadata": {},
   "outputs": [],
   "source": [
    "\n",
    "# def set_folder_permissions(folder_path, email, role=\"READER\"):\n",
    "#     # List all assets in the folder\n",
    "#     asset_list = ee.data.listAssets({'parent': folder_path})['assets']\n",
    "    \n",
    "\n",
    "#     for asset in asset_list:\n",
    "#         asset_id = asset['id']\n",
    "#         # Get current access control list (ACL) for the asset\n",
    "#         acl = ee.data.getAssetAcl(asset_id)\n",
    "        \n",
    "#         # Update ACL to share with the new user\n",
    "#         acl['owners'] = acl.get('owners', [])\n",
    "#         acl['writers'] = acl.get('writers', [])\n",
    "#         acl['readers'] = acl.get('readers', [])\n",
    "#         print (acl['readers'] )\n",
    "#         if role == \"READER\":\n",
    "#             acl['readers'].append(f\"user:{email}\")  # Add the user prefix\n",
    "#         elif role == \"WRITER\":\n",
    "#             acl['writers'].append(f\"user:{email}\")  # Add the user prefix\n",
    "        \n",
    "        \n",
    "#         # Set the new ACL for the asset\n",
    "#         ee.data.setAssetAcl(asset_id, acl)\n",
    "\n",
    "# # Example usage\n",
    "# folder_path = \"projects/ee-quatratavia/assets/berms/DEP3\"\n",
    "# user_email = 'aaronkoop@gmail.com'  # Email of the user you want to share with\n",
    "# set_folder_permissions(folder_path, user_email, role=\"READER\")  # Role can be \"READER\" or \"WRITER\"\n"
   ]
  },
  {
   "cell_type": "code",
   "execution_count": null,
   "id": "9282cc3e",
   "metadata": {
    "vscode": {
     "languageId": "markdown"
    }
   },
   "outputs": [],
   "source": []
  },
  {
   "cell_type": "code",
   "execution_count": null,
   "id": "7582de56",
   "metadata": {},
   "outputs": [
    {
     "data": {
      "text/plain": [
       "ee.Asset('projects/ee-quatratavia/assets/CA_fire/monthly_LST')"
      ]
     },
     "execution_count": 38,
     "metadata": {},
     "output_type": "execute_result"
    }
   ],
   "source": [
    "# Code to move assets around\n",
    "src = ee.Asset(\"projects/ee-quatratavia/assets/monthly_LST\")\n",
    "dst = ee.Asset(\"projects/ee-quatratavia/assets/CA_fire/monthly_LST\")\n",
    "\n",
    "# src.move(dst)\n"
   ]
  },
  {
   "cell_type": "code",
   "execution_count": null,
   "id": "c264d2b2",
   "metadata": {},
   "outputs": [
    {
     "data": {
      "text/plain": [
       "ee.Asset('projects/ee-quatratavia/assets/CA_fire/MBTS')"
      ]
     },
     "execution_count": 39,
     "metadata": {},
     "output_type": "execute_result"
    }
   ],
   "source": [
    "src = ee.Asset(\"projects/ee-quatratavia/assets/MBTS\")\n",
    "dst = ee.Asset(\"projects/ee-quatratavia/assets/CA_fire/MBTS\")\n",
    "\n",
    "# src.move(dst)\n"
   ]
  },
  {
   "cell_type": "code",
   "execution_count": null,
   "id": "9c44be0e",
   "metadata": {},
   "outputs": [],
   "source": [
    "# TODO - fix this or remove.  currently deletes everything\n",
    "# Define the polygon by loading the FeatureCollection\n",
    "polygon_fc = ee.FeatureCollection(\"projects/ee-okavango/assets/shapes/testing_grounds_20241127\").first()\n",
    "polygon_geometry = polygon_fc.geometry()\n",
    "\n",
    "polygon_geometry = ee.Geometry.Polygon(\n",
    "        [[[21.716601878680233, -17.986800918676114],\n",
    "          [21.716601878680233, -18.198273997193347],\n",
    "          [21.988513499773983, -18.198273997193347],\n",
    "          [21.988513499773983, -17.986800918676114]]])\n",
    "# Define the folder containing the images\n",
    "folder_path = \"projects/ee-okavango/assets/dsms\"\n",
    "\n",
    "# List all assets in the folder\n",
    "asset_list = ee.data.listAssets({'parent': folder_path})['assets']\n",
    "\n",
    "# Function to check if an image is outside the polygon\n",
    "def is_image_outside_polygon(image_path, polygon_geometry):\n",
    "    try:\n",
    "        image = ee.Image(image_path)\n",
    "        image_geometry = image.geometry()\n",
    "        return not polygon_geometry.contains(image_geometry, 1).getInfo()\n",
    "    except Exception as e:\n",
    "        print(f\"Error processing image {image_path}: {e}\")\n",
    "        return False\n",
    "\n",
    "# Loop through assets and delete images outside the polygon\n",
    "for asset in asset_list:\n",
    "    asset_path = asset['name']\n",
    "\n",
    "    if is_image_outside_polygon(asset_path, polygon_geometry):\n",
    "        print(f\"Deleting image: {asset_path}\")\n",
    "        ee.data.deleteAsset(asset_path)\n",
    "    else:\n",
    "        print(f\"Keeping image: {asset_path}\")\n"
   ]
  },
  {
   "cell_type": "code",
   "execution_count": null,
   "id": "5069e6eb",
   "metadata": {},
   "outputs": [],
   "source": [
    "# Share all assets under a root with a specific user (dry-run first)\n",
    "from src.gee_utils import share_tree_with_user\n",
    "\n",
    "ROOT = \"projects/ee-okavango/assets/dsms\"\n",
    "EMAIL = \"user@example.com\"  # or use 'group:my-group@domain' for groups\n",
    "\n",
    "# Dry run: prints what would change\n",
    "share_tree_with_user(ROOT, EMAIL, role='READER', dry_run=True)\n",
    "\n",
    "# When ready to apply, set dry_run=False\n",
    "# share_tree_with_user(ROOT, EMAIL, role='READER', dry_run=False, sleep_sec=0.1)\n"
   ]
  }
 ],
 "metadata": {
  "kernelspec": {
   "display_name": "ee",
   "language": "python",
   "name": "python3"
  },
  "language_info": {
   "codemirror_mode": {
    "name": "ipython",
    "version": 3
   },
   "file_extension": ".py",
   "mimetype": "text/x-python",
   "name": "python",
   "nbconvert_exporter": "python",
   "pygments_lexer": "ipython3",
   "version": "3.11.8"
  }
 },
 "nbformat": 4,
 "nbformat_minor": 5
}
